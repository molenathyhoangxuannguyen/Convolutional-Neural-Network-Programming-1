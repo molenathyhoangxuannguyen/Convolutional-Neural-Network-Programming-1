{
 "cells": [
  {
   "cell_type": "markdown",
   "metadata": {},
   "source": [
    "# CSC410 Computational Intelligence\n",
    "\n",
    "## Convolutional Neural Network Implementation Assignment\n",
    "\n",
    "In this assignment, you will be implementing two stages of a convolutional neural network (CNN), (1) convolving, and (2) pooling. \n",
    "\n",
    "The learning goals for this assignment are: \n",
    "\n",
    "<ol>\n",
    "    <li> familiarizing yourself with what a convolution is and how it works </li>\n",
    "    <li> familiarizing yourself with what max pooling is and how it works </li>\n",
    "    <li> remind yourself of how file processing works </li>\n",
    "</ol>\n",
    "\n",
    "### Important point: All the cells in this Notebook need to run from top to bottom in that order and your Notebook may become cluttered with output. If something does not seem to be working, you may need to <a href=\"https://youtu.be/qjRfyjNXpKE\">restart the kernel</a> to *reset* everything.\n",
    "\n",
    "\n",
    "## WORK YOU NEED TO DO: Defining the *convolve()* and *max_pool()* functions\n",
    "\n",
    "As explained in <a href=\"https://www.youtube.com/watch?v=YRhxdVk_sIs\">this video</a> and \n",
    "<a href=\"https://www.youtube.com/watch?v=ZjM_XQa5s6s\">this video</a> by DeepLizard, \n",
    "there are two operations that occur in a convolutional neural network:\n",
    "\n",
    "<ol>\n",
    "    <li> <b><code>convolve()</code></b> - this process takes an input (often an image), and a filter, and it \n",
    "        outputs a transformation of that input after the filter has been applied to it. It may not have been \n",
    "        clear from the video, but the output of this operation is slightly smaller than the input. <br>\n",
    "        <i>try to think of why that is the case</i>\n",
    "    </li>\n",
    "    <li> <b><code>pooling()</code></b> - this process takes an input (again, often an image) and a filter size \n",
    "        or stride length, and generates a smaller version after applying a \"pooling\" process. Given an image of \n",
    "        <code>n</code> rows and columns and a stride length of <code>s</code>, can you figure out what the output\n",
    "        image size is?\n",
    "    </li>\n",
    "</ol>\n",
    "\n",
    "In the videos, she presented how the transformation looks like visually in the Excel spreadsheet, and these operations are done within a CNN by the way that the network is structured. *This is unlike in an ANN we have covered so far, where we do not impose any structure in advance.* However, for this assignment, you will implement both operations procedurally (using loops) in Python to get a good sense of how they work. We will embed these operations within an CNN class, to keep it consistent with previous assignments. I am providing you a constructor for this class, which primarily serves to set its filter, and a setter function in which you can set a different filter to it.\n",
    "\n",
    "You will start with implementing convolution, and then to pooling. You can comment out the functions in the *main()* function to check one or the other as you see fit. \n",
    "\n",
    "\n",
    "### The *convolve()* function\n",
    "\n",
    "This function takes as input an image (a list of list data structure). The filter is set when the CNN object is first created. You can assume that the dimensions of the image are multiples of 3 to simplify your implementation. This function iterates from the first row, first coloumn on the image and iterates down the image. At each location, say, \\[rowIndex,colIndex\\], the function performs a dot-product of the input image at that location and the filter, producing a single number. This number is saved in the output image at position \\[rowIndex,colIndex\\].\n",
    "\n",
    "### The *max_pool()* function\n",
    "\n",
    "This function takes as input an image (again, a list of lists data structure) and a stride, say called, *stride*. It starts from the top left of the list of lists, say, \\[rowIndex,colIndex\\] and takes the maximum value in the *stride*x*stride* square based off of \\[rowIndex,colIndex\\]. That max value is then stored in the output \"image\", which is a list of lists.\n",
    "\n",
    "Complete the code in the cell below and run it."
   ]
  },
  {
   "cell_type": "code",
   "execution_count": 3,
   "metadata": {},
   "outputs": [],
   "source": [
    "import math\n",
    "\n",
    "class CNN:\n",
    "    def __init__(self, inputFilter):\n",
    "        '''CONSTRUCTOR: It takes as input a 2D list of lists for the filter.'''\n",
    "        self.myFilter = inputFilter\n",
    "        \n",
    "    def set_filter(self, inputFilter):\n",
    "        '''A SETTER function that allows you to set the filter to something else. This filter is a 2D list of lists'''\n",
    "        self.myFilter = inputFilter\n",
    "        \n",
    "    def convolve( self, inputImage ):\n",
    "        ''' this function inputs a 2D list of lists and returns the convolved image using \n",
    "        myFilter. Assuming that the filter is 3x3'''\n",
    "           \n",
    "        #Get an empty list to hold the complete matrix\n",
    "        complete_matrix = []\n",
    "        \n",
    "        #The last row/column is at 28 - 3 + 1 = 26\n",
    "        for j in range(28-3+1):\n",
    "           \n",
    "            row = []\n",
    "            for i in range(28-3+1):\n",
    "                \n",
    "                #Result is calculated by doing math corresponding to the convolutional layer\n",
    "                result = inputImage[j][i] * self.myFilter[0][0] + inputImage[j][i+1] * self.myFilter[0][1] + inputImage[j][i+2] * self.myFilter[0][2] + inputImage[j+1][i] * self.myFilter[1][0] + inputImage[j+1][i+1] * self.myFilter[1][1] + inputImage[j+1][i+2] * self.myFilter[1][2]              + inputImage[j+2][i] * self.myFilter[2][0] + inputImage[j+2][i+1] * self.myFilter[2][1] + inputImage[j+2][i+2] * self.myFilter[2][2]\n",
    "                row.append(result)\n",
    "    \n",
    "            complete_matrix.append(row)   \n",
    "        return complete_matrix\n",
    "    \n",
    "    def max_pool(self, inputImage, filterSize):\n",
    "        '''perform max pooling to the inputImage and outputs the maxpooling of thisimage/ '''\n",
    "        \n",
    "        complete_matrix = []\n",
    "        \n",
    "        #Since there are 28x28, and the filterSize is 2x2, there are 14 times going through the rows\n",
    "        #and 14 times going through the columns.\n",
    "        \n",
    "        for j in range(14):\n",
    "            row = []\n",
    "            for i in range(14):\n",
    "                #Result is calculated by doing math corresponding to the convolutional layer\n",
    "                result = max(inputImage[j*2][i*2],inputImage[j*2][i*2+1],inputImage[j*2+1][i*2],inputImage[j*2+1][i*2+1]) \n",
    "                row.append(result)\n",
    "            complete_matrix.append(row)\n",
    "\n",
    "        return complete_matrix"
   ]
  },
  {
   "cell_type": "markdown",
   "metadata": {},
   "source": [
    "## GIVEN TO YOU: The *main()* function that goes through and calls the *convolve()* and *max_pool()* functions to test them."
   ]
  },
  {
   "cell_type": "code",
   "execution_count": 4,
   "metadata": {
    "scrolled": true
   },
   "outputs": [
    {
     "name": "stdout",
     "output_type": "stream",
     "text": [
      "CONVOLVE SUCCESS for test 0\n",
      "MAXPOOL SUCCESS for test 0\n"
     ]
    }
   ],
   "source": [
    "from testImage import get_test_image\n",
    "from testingModule import check_convolution, check_pooling, load_testImage\n",
    "   \n",
    "def main():\n",
    "    theFilter = [[-1,-1,-1],[1,1,1],[0,0,0]]\n",
    "    cnn = CNN( theFilter )\n",
    "    for i in range(1):\n",
    "        image = load_testImage(i)\n",
    "        check_convolution(i, cnn.convolve(image))\n",
    "        cnn.max_pool(image,2)\n",
    "        check_pooling(i, cnn.max_pool(image, 2))\n",
    "\n",
    "main()"
   ]
  },
  {
   "cell_type": "markdown",
   "metadata": {},
   "source": [
    "## SHORT ANSWER: Follow up concept builds\n",
    "\n",
    "The covolve operation necessarily produces a smaller version of its input. If the input is a 100x100 image, what are the dimensions of the output and why?"
   ]
  },
  {
   "cell_type": "raw",
   "metadata": {},
   "source": [
    "The input is a 100x100 image, so the input needs 10,000 nodes. The output of the convolve layer depends on the size of each filter and the number of filters we use. For each filter, the number of nodes is (101 - the dimension of 1D of the filters) x (101 - the other dimension of 1D of the filters) x 1  nodes."
   ]
  },
  {
   "cell_type": "markdown",
   "metadata": {},
   "source": [
    "Likewise, the pooling operation also produces and output that is smaller than the input. If the input is a 100x100 image and a stride of 3, what are the dimensions of the output, and why?"
   ]
  },
  {
   "cell_type": "raw",
   "metadata": {},
   "source": [
    "If there is a stride of 3, which means for each 3x3 square, it gets the max number. For 100 pixels (from left to right), each 3 pixels gets max pooling, so we have 100/3 = 33 (remaining 1), so we have 34 pixels.\n",
    "For 100 pixels (from up to down), each 3 pixels gets max pooling, so we have 100/3 = 33(remaining 1), so we have 34 pixels.\n",
    "So the output is 34x34xfilters. For each filter, the number of nodes is 34x34x1  (nodes)"
   ]
  },
  {
   "cell_type": "markdown",
   "metadata": {},
   "source": [
    "## You are done. Restart the kernel and clear the outputs before saving this notebook as *yourlastname.CSC410.CNN* and upload to Moodle.\n",
    "I will use the following grading criteria:\n",
    "\n",
    "<ol>\n",
    "    <li> Correct implementation. (10 points total) I have a set of new test cases that we will use to test your code. You will get one point for every pattern that your program successfully generates the correct output.</li>\n",
    "    <li> Programming practice (4 points total) You will also get points based on how well your program is commented and have informative variable names. \n",
    "        <ol>\n",
    "            <li> You will get up to 2 points for enough comments that the grader (the TA or me) easily understand your implementation. If you do not add enough comments, your program could be confusing, or even worse, it may suggest that you took code without properly understanding what you are doing (the latter could be grounds for academic dishonesty. Please do not put me there) </li>\n",
    "            <li> You will get 1 point for using informative variable names. I realize this criterion may seen a little unnecessary, but anyone who had to revisit code they wrote or had to analyze someone else's code REALLY appreciates good variable names. </li>\n",
    "            <li> You will get 1 point for consistent variable and function names. This assignment is fairly prescriptive about the functions because I already gave you the names, but it would be good to pick a practice. Some people use camelCase (such as firstVariable) for variable names, but others use underscores (such as first_variable). </li>\n",
    "        </ol>\n",
    "    </li>\n",
    "    <li> Concept build (2 points total) You will get one point each for completely answering the last two questions, including an explanation. </li>\n",
    "</ol>"
   ]
  },
  {
   "cell_type": "code",
   "execution_count": null,
   "metadata": {},
   "outputs": [],
   "source": []
  }
 ],
 "metadata": {
  "kernelspec": {
   "display_name": "Python 3",
   "language": "python",
   "name": "python3"
  },
  "language_info": {
   "codemirror_mode": {
    "name": "ipython",
    "version": 3
   },
   "file_extension": ".py",
   "mimetype": "text/x-python",
   "name": "python",
   "nbconvert_exporter": "python",
   "pygments_lexer": "ipython3",
   "version": "3.8.3"
  }
 },
 "nbformat": 4,
 "nbformat_minor": 2
}
